{
 "cells": [
  {
   "cell_type": "code",
   "execution_count": 27,
   "metadata": {},
   "outputs": [],
   "source": [
    "import csv\n",
    "import pandas as pd\n",
    "import numpy as np\n",
    "import matplotlib.pyplot as plt"
   ]
  },
  {
   "cell_type": "markdown",
   "metadata": {},
   "source": [
    "## Data Preprocessing"
   ]
  },
  {
   "cell_type": "code",
   "execution_count": 44,
   "metadata": {},
   "outputs": [],
   "source": [
    "# Open CSV file\n",
    "with open('dataset\\Restaurant_Sales_Data-Cleaned_Data.csv', newline='') as csvfile:\n",
    "    # Create CSV reader object\n",
    "    csv_reader = csv.reader(csvfile, delimiter=',')\n",
    "    \n",
    "    # Initialize empty list\n",
    "    rows = []\n",
    "    \n",
    "    # Iterate over each row and append data to list\n",
    "    for row in csv_reader:\n",
    "        rows.append(row)\n",
    "\n",
    "# Print the DataFrame\n",
    "#print(df)"
   ]
  },
  {
   "cell_type": "code",
   "execution_count": 46,
   "id": "f10beebe",
   "metadata": {},
   "outputs": [],
   "source": [
    "# Convert 'Dates' column to datetime format\n",
    "df['Dates'] = pd.to_datetime(df['Dates'])\n",
    "\n",
    "# Filter data for Event_df and nonEvent_df\n",
    "Event_df = df[(df['Dates'] >= '2023-07-16') & (df['Dates'] <= '2023-08-31')]\n",
    "nonEvent_df = df[(df['Dates'] < '2023-07-16') | (df['Dates'] > '2023-08-31')]\n",
    "\n",
    "# Print the filtered DataFrame\n",
    "#print(nonEvent_df)\n",
    "#print(Event_df)"
   ]
  },
  {
   "cell_type": "code",
   "execution_count": null,
   "metadata": {},
   "outputs": [],
   "source": [
    " "
   ]
  }
 ],
 "metadata": {
  "kernelspec": {
   "display_name": "Python 3",
   "language": "python",
   "name": "python3"
  },
  "language_info": {
   "codemirror_mode": {
    "name": "ipython",
    "version": 3
   },
   "file_extension": ".py",
   "mimetype": "text/x-python",
   "name": "python",
   "nbconvert_exporter": "python",
   "pygments_lexer": "ipython3",
   "version": "3.11.8"
  }
 },
 "nbformat": 4,
 "nbformat_minor": 5
}
